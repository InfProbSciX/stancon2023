{
 "cells": [
  {
   "cell_type": "markdown",
   "metadata": {},
   "source": [
    "NOTE: All models and code used here were developed purely for the purpose of illustration. We use a different set of models in production, although the principles are all the same. "
   ]
  },
  {
   "cell_type": "code",
   "execution_count": 181,
   "metadata": {},
   "outputs": [],
   "source": [
    "import os\n",
    "import dill\n",
    "\n",
    "import numpy as np\n",
    "import plotly.io as pio\n",
    "import plotly.graph_objects as go\n",
    "import plotly.express as px\n",
    "import arviz as az\n",
    "\n",
    "from plotly.subplots import make_subplots\n",
    "from cmdstanpy import CmdStanModel\n",
    "\n",
    "pio.renderers.default = \"notebook_connected\""
   ]
  },
  {
   "cell_type": "markdown",
   "metadata": {},
   "source": [
    "First, we will read in the data that we saved our from the `loss_development.ipynb` notebook: "
   ]
  },
  {
   "cell_type": "code",
   "execution_count": 182,
   "metadata": {},
   "outputs": [],
   "source": [
    "MODEL_PATH = os.path.join(\"..\", \"..\", \"stan\", \"ar1_hierarchical.stan\")\n",
    "LOSS_DATA_PATH = os.path.join(\"..\", \"..\", \"data\", \"developed_losses.pkl\")\n",
    "LOSS_DEV_TEST_DATA_PATH = os.path.join(\"..\", \"..\", \"data\", \"loss_dev_test_data.pkl\")\n",
    "PREMIUM_DATA_PATH = os.path.join(\"..\", \"..\", \"data\", \"premium_data.pkl\")"
   ]
  },
  {
   "cell_type": "code",
   "execution_count": 183,
   "metadata": {},
   "outputs": [],
   "source": [
    "with open(LOSS_DATA_PATH, \"rb\") as infile:\n",
    "    loss_pred = dill.load(infile)\n",
    "\n",
    "with open(PREMIUM_DATA_PATH, \"rb\") as infile:\n",
    "    premium_data = dill.load(infile)\n",
    "\n",
    "with open(LOSS_DEV_TEST_DATA_PATH, \"rb\") as infile:\n",
    "    loss_dev_test_data = dill.load(infile)"
   ]
  },
  {
   "cell_type": "markdown",
   "metadata": {},
   "source": [
    "We will the total premium volume for each program as a covariate in the forecasting model, but first we will scale it by 1000 to make things more manageable: "
   ]
  },
  {
   "cell_type": "code",
   "execution_count": 184,
   "metadata": {},
   "outputs": [
    {
     "data": {
      "text/plain": [
       "array([5.6978000e+01, 1.3165000e+02, 1.9217000e+01, 1.6786200e+02,\n",
       "       4.1560000e+00, 6.9057000e+01, 6.8987000e+01, 6.9154000e+01,\n",
       "       3.6853000e+01, 4.7712000e+01, 2.9638000e+01, 1.8462300e+02,\n",
       "       4.7720000e+01, 2.0509000e+01, 1.5065713e+04, 2.2052330e+03,\n",
       "       2.4010000e+01, 4.0323000e+01, 2.2203200e+02, 5.5448900e+02,\n",
       "       5.3853000e+01, 1.6078000e+01, 3.8510000e+00, 3.5600000e-01,\n",
       "       1.7018300e+02])"
      ]
     },
     "execution_count": 184,
     "metadata": {},
     "output_type": "execute_result"
    }
   ],
   "source": [
    "ult_premium = np.array(premium_data)[:,-1,-1]/1e3\n",
    "ult_premium"
   ]
  },
  {
   "cell_type": "markdown",
   "metadata": {},
   "source": [
    "Then, the input for our forecasting model is the posterior prediction for each accident year at the last development lag (this simplifies real-world applications, but works for our example):"
   ]
  },
  {
   "cell_type": "code",
   "execution_count": 185,
   "metadata": {},
   "outputs": [],
   "source": [
    "# get the developed \"right edge\"\n",
    "developed_losses = loss_pred[:,:,:,-1]"
   ]
  },
  {
   "cell_type": "markdown",
   "metadata": {},
   "source": [
    "We then take the mean and standard deviation of each of these quantities so that we can propegate the uncertainty from the development to the forecasting model: "
   ]
  },
  {
   "cell_type": "code",
   "execution_count": 186,
   "metadata": {},
   "outputs": [],
   "source": [
    "developed_loss_means = np.nanmean(developed_losses, axis=0)\n",
    "developed_loss_sds = np.nanstd(developed_losses, axis=0)"
   ]
  },
  {
   "cell_type": "markdown",
   "metadata": {},
   "source": [
    "Formatting for Stan:  "
   ]
  },
  {
   "cell_type": "code",
   "execution_count": 187,
   "metadata": {},
   "outputs": [],
   "source": [
    "stan_data = {\n",
    "    \"N\": developed_loss_means.shape[0],\n",
    "    \"AY\": developed_loss_means.shape[1],\n",
    "    \"ult_loss\": developed_loss_means,\n",
    "    \"ult_loss_sd\": developed_loss_sds,\n",
    "    \"ult_premium\": ult_premium,\n",
    "    \"prior_only\": 0,\n",
    "    \"N_AY_pred\": 2,\n",
    "}"
   ]
  },
  {
   "cell_type": "markdown",
   "metadata": {},
   "source": [
    "# An AR1 Model with Measurement Error"
   ]
  },
  {
   "cell_type": "markdown",
   "metadata": {},
   "source": [
    "For this example, the model itself is a simple AR1-style model where time is indicated by the accident year (remember, we now have the posterior mean and standard deviation for each \"ultimate\" loss ratio that we generated per the development model). \n",
    "\n",
    "Here, we propegate the uncertainty from the development model to the forecasting model by assuming that $\\text{LR}_{\\text{obs},t}$ (the posterior predicted mean from the development model for accident year $t$) follows from a gamma distribution with true mean $\\text{LR}_{\\text{true},t}$ (a free parameter) and $\\text{SD}(\\text{LR}_{\\text{obs},t})$ (the posterior predicted standard deviation from the development model for accident year $t$). \n",
    "\n",
    "We also assume that the variance is a function of the size of the program, where premium volume is a proxy for program size. \n",
    "\n",
    "Finally, we assume that the true loss ratios follow a gamma distribution."
   ]
  },
  {
   "cell_type": "markdown",
   "metadata": {},
   "source": [
    "$$\n",
    "\\begin{align*}\n",
    "    \\text{LR}_{\\text{true},t} &\\sim \\Gamma(\\mu_t^2 / \\sigma_t^2, \\mu_t / \\sigma_t^2)\\\\\n",
    "    \\mu_t &= \\phi \\cdot \\text{LR}_{\\text{true},t-1} + (1-\\phi) \\mu \\\\\n",
    "    \\sigma_t &= \\exp(\\sigma_\\text{int} + \\sigma_\\text{slope} / \\text{Premium}) \\\\\n",
    "    \\text{LR}_{\\text{obs},t} &\\sim \\Gamma(\\text{LR}_{\\text{true},t}^2 / \\text{SD}(\\text{LR}_{\\text{obs},t})^2, \\text{LR}_{\\text{true},t} / \\text{SD}(\\text{LR}_{\\text{obs},t})^2)\n",
    "\\end{align*}\n",
    "$$"
   ]
  },
  {
   "cell_type": "markdown",
   "metadata": {},
   "source": [
    "Time for Stan!"
   ]
  },
  {
   "cell_type": "code",
   "execution_count": null,
   "metadata": {},
   "outputs": [],
   "source": [
    "ar1 = CmdStanModel(\n",
    "    \"ar1\",\n",
    "    stan_file=MODEL_PATH\n",
    ")"
   ]
  },
  {
   "cell_type": "code",
   "execution_count": null,
   "metadata": {},
   "outputs": [],
   "source": [
    "# NOTE: setting stan_data[\"N_AY_pred\"] tells us how many of the tail-end accident years we want to use as test data\n",
    "stan_data[\"prior_only\"] = 0\n",
    "stan_data[\"N_AY_pred\"] = 2\n",
    "fit = ar1.sample(\n",
    "    stan_data,\n",
    "    iter_warmup=1000, \n",
    "    iter_sampling=1000,\n",
    "    inits=0.2,\n",
    "    chains=4,\n",
    "    parallel_chains=4,\n",
    "    adapt_delta=.8,\n",
    "    seed=43215,\n",
    ")"
   ]
  },
  {
   "cell_type": "markdown",
   "metadata": {},
   "source": [
    "We get warnings like before, but again specific to the variable transforms we are doing for the gamma parameterization. Diagnostics look pretty good: "
   ]
  },
  {
   "cell_type": "code",
   "execution_count": null,
   "metadata": {},
   "outputs": [],
   "source": [
    "fit.summary()"
   ]
  },
  {
   "cell_type": "markdown",
   "metadata": {},
   "source": [
    "Some pairs plots: "
   ]
  },
  {
   "cell_type": "code",
   "execution_count": null,
   "metadata": {},
   "outputs": [],
   "source": [
    "az.plot_pair(\n",
    "    az.from_cmdstanpy(fit),\n",
    "    var_names=['mu_target_lr', 'sigma_target_lr', 'reversion', 'sigma_int', 'sigma_slope'],\n",
    "    kind='scatter',\n",
    "    divergences=True,\n",
    ")"
   ]
  },
  {
   "cell_type": "markdown",
   "metadata": {},
   "source": [
    "And a function to plot the posterior predictions on observed versus true loss ratios: "
   ]
  },
  {
   "cell_type": "code",
   "execution_count": 191,
   "metadata": {},
   "outputs": [],
   "source": [
    "def plot_predictions(pred_ult_loss, loss_dev_test_data, program_idx):\n",
    "    fig = go.Figure()\n",
    "\n",
    "    x = np.arange(10)\n",
    "    data_mu = np.nanmean(pred_ult_loss[:,program_idx,:], axis=0)\n",
    "    data_lower = np.nanquantile(pred_ult_loss[:,program_idx,:], 0.05, axis=0)\n",
    "    data_upper = np.nanquantile(pred_ult_loss[:,program_idx,:], 0.95, axis=0)\n",
    "\n",
    "    colors = px.colors.sequential.Viridis\n",
    "\n",
    "    fig.add_trace(\n",
    "        go.Scatter(\n",
    "            x=x, \n",
    "            y=data_mu, \n",
    "            mode=\"lines\",\n",
    "            marker=dict(color=colors[0]),\n",
    "            showlegend=False\n",
    "        ), \n",
    "    )\n",
    "    fig.add_trace(\n",
    "        go.Scatter(\n",
    "            x=x,\n",
    "            y=data_upper,\n",
    "            mode='lines',\n",
    "            marker=dict(color=colors[0]),\n",
    "            line=dict(width=0),\n",
    "            showlegend=False\n",
    "        ),\n",
    "    )\n",
    "    fig.add_trace(\n",
    "        go.Scatter(\n",
    "            x=x,\n",
    "            y=data_lower,\n",
    "            mode='lines',\n",
    "            marker=dict(color=colors[0]),\n",
    "            line=dict(width=0),\n",
    "            fill='tonexty',\n",
    "            showlegend=False\n",
    "        ),\n",
    "    )\n",
    "    dev_means = developed_loss_means[program_idx,:]\n",
    "    dev_means[-stan_data[\"N_AY_pred\"]:] = np.nan\n",
    "    fig.add_trace(\n",
    "        go.Scatter(\n",
    "            x=x, \n",
    "            y=dev_means,\n",
    "            error_y=dict(type='data', array=developed_loss_sds[program_idx,:], visible=True),\n",
    "            mode='markers',\n",
    "            name=None,\n",
    "            showlegend=False,\n",
    "            marker=dict(color=colors[0], size=10),\n",
    "        ),     \n",
    "    )\n",
    "    fig.add_trace(\n",
    "        go.Scatter(\n",
    "            x=x, \n",
    "            y=dev_means,\n",
    "            mode='markers',\n",
    "            name=None,\n",
    "            showlegend=False,\n",
    "            marker=dict(\n",
    "                color=[0 if i < (10-stan_data[\"N_AY_pred\"]) else 1 for i in x], \n",
    "                colorscale=[[0, colors[0]], [1, \"white\"]]\n",
    "            ),\n",
    "        ),     \n",
    "    )\n",
    "    fig.add_trace(\n",
    "        go.Scatter(\n",
    "            x=x, \n",
    "            y=loss_dev_test_data[program_idx,:,-1],\n",
    "            mode='markers',\n",
    "            name=None,\n",
    "            showlegend=False,\n",
    "            marker=dict(color=colors[8]),\n",
    "        ),     \n",
    "    )\n",
    "\n",
    "    return fig"
   ]
  },
  {
   "cell_type": "markdown",
   "metadata": {},
   "source": [
    "The light green dots are the true loss ratios, purple dots and error bars the development model posterior predicted means+standard deviations, and the purple line+shaded interval the posterior predicted mean and uncertainty intervals for the forecasting model:"
   ]
  },
  {
   "cell_type": "code",
   "execution_count": 223,
   "metadata": {},
   "outputs": [
    {
     "data": {
      "text/html": [
       "<div>                            <div id=\"10abc965-46e5-4e16-9b86-b4846ff0a612\" class=\"plotly-graph-div\" style=\"height:525px; width:100%;\"></div>            <script type=\"text/javascript\">                require([\"plotly\"], function(Plotly) {                    window.PLOTLYENV=window.PLOTLYENV || {};                                    if (document.getElementById(\"10abc965-46e5-4e16-9b86-b4846ff0a612\")) {                    Plotly.newPlot(                        \"10abc965-46e5-4e16-9b86-b4846ff0a612\",                        [{\"marker\":{\"color\":\"#440154\"},\"mode\":\"lines\",\"showlegend\":false,\"x\":[0,1,2,3,4,5,6,7,8,9],\"y\":[1.2654499999999997,0.83007726625,0.51550710875,0.35059710622499995,0.29907089814999993,0.29200754414,0.35089948219999995,0.360828327025,0.3420164243675,0.34402266322130026],\"type\":\"scatter\"},{\"line\":{\"width\":0},\"marker\":{\"color\":\"#440154\"},\"mode\":\"lines\",\"showlegend\":false,\"x\":[0,1,2,3,4,5,6,7,8,9],\"y\":[1.26545,1.1931569999999996,0.7439380499999999,0.5487602499999998,0.48844369999999987,0.48760549999999975,0.5431154999999999,0.5440299,0.5334085,0.5733810499999998],\"type\":\"scatter\"},{\"fill\":\"tonexty\",\"line\":{\"width\":0},\"marker\":{\"color\":\"#440154\"},\"mode\":\"lines\",\"showlegend\":false,\"x\":[0,1,2,3,4,5,6,7,8,9],\"y\":[1.26545,0.6230495,0.3508005,0.18014035,0.1248843,0.10799355000000001,0.1796181,0.19017295,0.16337770000000001,0.10980870000000001],\"type\":\"scatter\"},{\"error_y\":{\"array\":[0.0024623760567749294,0.0036003135906570224,0.005786778675012532,0.009201337180099805,0.014866076468664214,0.024151858449496678,0.03799057287380323,0.061691722809514286,0.09489253039106466,0.0949238208616535],\"type\":\"data\",\"visible\":true},\"marker\":{\"color\":\"#440154\",\"size\":10},\"mode\":\"markers\",\"showlegend\":false,\"x\":[0,1,2,3,4,5,6,7,8,9],\"y\":[1.2654505130149103,0.6742633535506697,0.3581276871367197,0.26149669042203694,0.2429039613343442,0.3648173447055851,0.38952972327520846,0.3425539203942381,null,null],\"type\":\"scatter\"},{\"marker\":{\"color\":[0,0,0,0,0,0,0,0,1,1],\"colorscale\":[[0,\"#440154\"],[1,\"white\"]]},\"mode\":\"markers\",\"showlegend\":false,\"x\":[0,1,2,3,4,5,6,7,8,9],\"y\":[1.2654505130149103,0.6742633535506697,0.3581276871367197,0.26149669042203694,0.2429039613343442,0.3648173447055851,0.38952972327520846,0.3425539203942381,null,null],\"type\":\"scatter\"},{\"marker\":{\"color\":\"#b5de2b\"},\"mode\":\"markers\",\"showlegend\":false,\"x\":[0,1,2,3,4,5,6,7,8,9],\"y\":[1.2654867256637168,0.67430316914853,0.3580143205728229,0.257802293511395,0.2505024704798593,0.37608186539048977,0.4102402264555122,0.38576700994106794,0.26806111207746275,0.2674971515381694],\"type\":\"scatter\"}],                        {\"template\":{\"data\":{\"histogram2dcontour\":[{\"type\":\"histogram2dcontour\",\"colorbar\":{\"outlinewidth\":0,\"ticks\":\"\"},\"colorscale\":[[0.0,\"#0d0887\"],[0.1111111111111111,\"#46039f\"],[0.2222222222222222,\"#7201a8\"],[0.3333333333333333,\"#9c179e\"],[0.4444444444444444,\"#bd3786\"],[0.5555555555555556,\"#d8576b\"],[0.6666666666666666,\"#ed7953\"],[0.7777777777777778,\"#fb9f3a\"],[0.8888888888888888,\"#fdca26\"],[1.0,\"#f0f921\"]]}],\"choropleth\":[{\"type\":\"choropleth\",\"colorbar\":{\"outlinewidth\":0,\"ticks\":\"\"}}],\"histogram2d\":[{\"type\":\"histogram2d\",\"colorbar\":{\"outlinewidth\":0,\"ticks\":\"\"},\"colorscale\":[[0.0,\"#0d0887\"],[0.1111111111111111,\"#46039f\"],[0.2222222222222222,\"#7201a8\"],[0.3333333333333333,\"#9c179e\"],[0.4444444444444444,\"#bd3786\"],[0.5555555555555556,\"#d8576b\"],[0.6666666666666666,\"#ed7953\"],[0.7777777777777778,\"#fb9f3a\"],[0.8888888888888888,\"#fdca26\"],[1.0,\"#f0f921\"]]}],\"heatmap\":[{\"type\":\"heatmap\",\"colorbar\":{\"outlinewidth\":0,\"ticks\":\"\"},\"colorscale\":[[0.0,\"#0d0887\"],[0.1111111111111111,\"#46039f\"],[0.2222222222222222,\"#7201a8\"],[0.3333333333333333,\"#9c179e\"],[0.4444444444444444,\"#bd3786\"],[0.5555555555555556,\"#d8576b\"],[0.6666666666666666,\"#ed7953\"],[0.7777777777777778,\"#fb9f3a\"],[0.8888888888888888,\"#fdca26\"],[1.0,\"#f0f921\"]]}],\"heatmapgl\":[{\"type\":\"heatmapgl\",\"colorbar\":{\"outlinewidth\":0,\"ticks\":\"\"},\"colorscale\":[[0.0,\"#0d0887\"],[0.1111111111111111,\"#46039f\"],[0.2222222222222222,\"#7201a8\"],[0.3333333333333333,\"#9c179e\"],[0.4444444444444444,\"#bd3786\"],[0.5555555555555556,\"#d8576b\"],[0.6666666666666666,\"#ed7953\"],[0.7777777777777778,\"#fb9f3a\"],[0.8888888888888888,\"#fdca26\"],[1.0,\"#f0f921\"]]}],\"contourcarpet\":[{\"type\":\"contourcarpet\",\"colorbar\":{\"outlinewidth\":0,\"ticks\":\"\"}}],\"contour\":[{\"type\":\"contour\",\"colorbar\":{\"outlinewidth\":0,\"ticks\":\"\"},\"colorscale\":[[0.0,\"#0d0887\"],[0.1111111111111111,\"#46039f\"],[0.2222222222222222,\"#7201a8\"],[0.3333333333333333,\"#9c179e\"],[0.4444444444444444,\"#bd3786\"],[0.5555555555555556,\"#d8576b\"],[0.6666666666666666,\"#ed7953\"],[0.7777777777777778,\"#fb9f3a\"],[0.8888888888888888,\"#fdca26\"],[1.0,\"#f0f921\"]]}],\"surface\":[{\"type\":\"surface\",\"colorbar\":{\"outlinewidth\":0,\"ticks\":\"\"},\"colorscale\":[[0.0,\"#0d0887\"],[0.1111111111111111,\"#46039f\"],[0.2222222222222222,\"#7201a8\"],[0.3333333333333333,\"#9c179e\"],[0.4444444444444444,\"#bd3786\"],[0.5555555555555556,\"#d8576b\"],[0.6666666666666666,\"#ed7953\"],[0.7777777777777778,\"#fb9f3a\"],[0.8888888888888888,\"#fdca26\"],[1.0,\"#f0f921\"]]}],\"mesh3d\":[{\"type\":\"mesh3d\",\"colorbar\":{\"outlinewidth\":0,\"ticks\":\"\"}}],\"scatter\":[{\"fillpattern\":{\"fillmode\":\"overlay\",\"size\":10,\"solidity\":0.2},\"type\":\"scatter\"}],\"parcoords\":[{\"type\":\"parcoords\",\"line\":{\"colorbar\":{\"outlinewidth\":0,\"ticks\":\"\"}}}],\"scatterpolargl\":[{\"type\":\"scatterpolargl\",\"marker\":{\"colorbar\":{\"outlinewidth\":0,\"ticks\":\"\"}}}],\"bar\":[{\"error_x\":{\"color\":\"#2a3f5f\"},\"error_y\":{\"color\":\"#2a3f5f\"},\"marker\":{\"line\":{\"color\":\"#E5ECF6\",\"width\":0.5},\"pattern\":{\"fillmode\":\"overlay\",\"size\":10,\"solidity\":0.2}},\"type\":\"bar\"}],\"scattergeo\":[{\"type\":\"scattergeo\",\"marker\":{\"colorbar\":{\"outlinewidth\":0,\"ticks\":\"\"}}}],\"scatterpolar\":[{\"type\":\"scatterpolar\",\"marker\":{\"colorbar\":{\"outlinewidth\":0,\"ticks\":\"\"}}}],\"histogram\":[{\"marker\":{\"pattern\":{\"fillmode\":\"overlay\",\"size\":10,\"solidity\":0.2}},\"type\":\"histogram\"}],\"scattergl\":[{\"type\":\"scattergl\",\"marker\":{\"colorbar\":{\"outlinewidth\":0,\"ticks\":\"\"}}}],\"scatter3d\":[{\"type\":\"scatter3d\",\"line\":{\"colorbar\":{\"outlinewidth\":0,\"ticks\":\"\"}},\"marker\":{\"colorbar\":{\"outlinewidth\":0,\"ticks\":\"\"}}}],\"scattermapbox\":[{\"type\":\"scattermapbox\",\"marker\":{\"colorbar\":{\"outlinewidth\":0,\"ticks\":\"\"}}}],\"scatterternary\":[{\"type\":\"scatterternary\",\"marker\":{\"colorbar\":{\"outlinewidth\":0,\"ticks\":\"\"}}}],\"scattercarpet\":[{\"type\":\"scattercarpet\",\"marker\":{\"colorbar\":{\"outlinewidth\":0,\"ticks\":\"\"}}}],\"carpet\":[{\"aaxis\":{\"endlinecolor\":\"#2a3f5f\",\"gridcolor\":\"white\",\"linecolor\":\"white\",\"minorgridcolor\":\"white\",\"startlinecolor\":\"#2a3f5f\"},\"baxis\":{\"endlinecolor\":\"#2a3f5f\",\"gridcolor\":\"white\",\"linecolor\":\"white\",\"minorgridcolor\":\"white\",\"startlinecolor\":\"#2a3f5f\"},\"type\":\"carpet\"}],\"table\":[{\"cells\":{\"fill\":{\"color\":\"#EBF0F8\"},\"line\":{\"color\":\"white\"}},\"header\":{\"fill\":{\"color\":\"#C8D4E3\"},\"line\":{\"color\":\"white\"}},\"type\":\"table\"}],\"barpolar\":[{\"marker\":{\"line\":{\"color\":\"#E5ECF6\",\"width\":0.5},\"pattern\":{\"fillmode\":\"overlay\",\"size\":10,\"solidity\":0.2}},\"type\":\"barpolar\"}],\"pie\":[{\"automargin\":true,\"type\":\"pie\"}]},\"layout\":{\"autotypenumbers\":\"strict\",\"colorway\":[\"#636efa\",\"#EF553B\",\"#00cc96\",\"#ab63fa\",\"#FFA15A\",\"#19d3f3\",\"#FF6692\",\"#B6E880\",\"#FF97FF\",\"#FECB52\"],\"font\":{\"color\":\"#2a3f5f\"},\"hovermode\":\"closest\",\"hoverlabel\":{\"align\":\"left\"},\"paper_bgcolor\":\"white\",\"plot_bgcolor\":\"#E5ECF6\",\"polar\":{\"bgcolor\":\"#E5ECF6\",\"angularaxis\":{\"gridcolor\":\"white\",\"linecolor\":\"white\",\"ticks\":\"\"},\"radialaxis\":{\"gridcolor\":\"white\",\"linecolor\":\"white\",\"ticks\":\"\"}},\"ternary\":{\"bgcolor\":\"#E5ECF6\",\"aaxis\":{\"gridcolor\":\"white\",\"linecolor\":\"white\",\"ticks\":\"\"},\"baxis\":{\"gridcolor\":\"white\",\"linecolor\":\"white\",\"ticks\":\"\"},\"caxis\":{\"gridcolor\":\"white\",\"linecolor\":\"white\",\"ticks\":\"\"}},\"coloraxis\":{\"colorbar\":{\"outlinewidth\":0,\"ticks\":\"\"}},\"colorscale\":{\"sequential\":[[0.0,\"#0d0887\"],[0.1111111111111111,\"#46039f\"],[0.2222222222222222,\"#7201a8\"],[0.3333333333333333,\"#9c179e\"],[0.4444444444444444,\"#bd3786\"],[0.5555555555555556,\"#d8576b\"],[0.6666666666666666,\"#ed7953\"],[0.7777777777777778,\"#fb9f3a\"],[0.8888888888888888,\"#fdca26\"],[1.0,\"#f0f921\"]],\"sequentialminus\":[[0.0,\"#0d0887\"],[0.1111111111111111,\"#46039f\"],[0.2222222222222222,\"#7201a8\"],[0.3333333333333333,\"#9c179e\"],[0.4444444444444444,\"#bd3786\"],[0.5555555555555556,\"#d8576b\"],[0.6666666666666666,\"#ed7953\"],[0.7777777777777778,\"#fb9f3a\"],[0.8888888888888888,\"#fdca26\"],[1.0,\"#f0f921\"]],\"diverging\":[[0,\"#8e0152\"],[0.1,\"#c51b7d\"],[0.2,\"#de77ae\"],[0.3,\"#f1b6da\"],[0.4,\"#fde0ef\"],[0.5,\"#f7f7f7\"],[0.6,\"#e6f5d0\"],[0.7,\"#b8e186\"],[0.8,\"#7fbc41\"],[0.9,\"#4d9221\"],[1,\"#276419\"]]},\"xaxis\":{\"gridcolor\":\"white\",\"linecolor\":\"white\",\"ticks\":\"\",\"title\":{\"standoff\":15},\"zerolinecolor\":\"white\",\"automargin\":true,\"zerolinewidth\":2},\"yaxis\":{\"gridcolor\":\"white\",\"linecolor\":\"white\",\"ticks\":\"\",\"title\":{\"standoff\":15},\"zerolinecolor\":\"white\",\"automargin\":true,\"zerolinewidth\":2},\"scene\":{\"xaxis\":{\"backgroundcolor\":\"#E5ECF6\",\"gridcolor\":\"white\",\"linecolor\":\"white\",\"showbackground\":true,\"ticks\":\"\",\"zerolinecolor\":\"white\",\"gridwidth\":2},\"yaxis\":{\"backgroundcolor\":\"#E5ECF6\",\"gridcolor\":\"white\",\"linecolor\":\"white\",\"showbackground\":true,\"ticks\":\"\",\"zerolinecolor\":\"white\",\"gridwidth\":2},\"zaxis\":{\"backgroundcolor\":\"#E5ECF6\",\"gridcolor\":\"white\",\"linecolor\":\"white\",\"showbackground\":true,\"ticks\":\"\",\"zerolinecolor\":\"white\",\"gridwidth\":2}},\"shapedefaults\":{\"line\":{\"color\":\"#2a3f5f\"}},\"annotationdefaults\":{\"arrowcolor\":\"#2a3f5f\",\"arrowhead\":0,\"arrowwidth\":1},\"geo\":{\"bgcolor\":\"white\",\"landcolor\":\"#E5ECF6\",\"subunitcolor\":\"white\",\"showland\":true,\"showlakes\":true,\"lakecolor\":\"white\"},\"title\":{\"x\":0.05},\"mapbox\":{\"style\":\"light\"}}}},                        {\"responsive\": true}                    ).then(function(){\n",
       "                            \n",
       "var gd = document.getElementById('10abc965-46e5-4e16-9b86-b4846ff0a612');\n",
       "var x = new MutationObserver(function (mutations, observer) {{\n",
       "        var display = window.getComputedStyle(gd).display;\n",
       "        if (!display || display === 'none') {{\n",
       "            console.log([gd, 'removed!']);\n",
       "            Plotly.purge(gd);\n",
       "            observer.disconnect();\n",
       "        }}\n",
       "}});\n",
       "\n",
       "// Listen for the removal of the full notebook cells\n",
       "var notebookContainer = gd.closest('#notebook-container');\n",
       "if (notebookContainer) {{\n",
       "    x.observe(notebookContainer, {childList: true});\n",
       "}}\n",
       "\n",
       "// Listen for the clearing of the current output cell\n",
       "var outputEl = gd.closest('.output');\n",
       "if (outputEl) {{\n",
       "    x.observe(outputEl, {childList: true});\n",
       "}}\n",
       "\n",
       "                        })                };                });            </script>        </div>"
      ]
     },
     "metadata": {},
     "output_type": "display_data"
    }
   ],
   "source": [
    "pred_ult_loss = fit.stan_variable(var=\"pred_ult_loss\")\n",
    "plot_predictions(pred_ult_loss, loss_dev_test_data, 1)"
   ]
  }
 ],
 "metadata": {
  "kernelspec": {
   "display_name": "stancon-2023",
   "language": "python",
   "name": "stancon-2023"
  },
  "language_info": {
   "codemirror_mode": {
    "name": "ipython",
    "version": 3
   },
   "file_extension": ".py",
   "mimetype": "text/x-python",
   "name": "python",
   "nbconvert_exporter": "python",
   "pygments_lexer": "ipython3",
   "version": "3.10.11"
  },
  "orig_nbformat": 4
 },
 "nbformat": 4,
 "nbformat_minor": 2
}
