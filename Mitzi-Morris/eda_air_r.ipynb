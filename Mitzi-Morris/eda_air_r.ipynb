{
 "cells": [
  {
   "cell_type": "markdown",
   "id": "14024548-c809-4c89-98b3-7f4a50b0478d",
   "metadata": {
    "tags": []
   },
   "source": [
    "# Exploratory Data Analysis - Air Pollution Example\n",
    "\n",
    "\n",
    "### Goals\n",
    "\n",
    "* Assess the quantity, quality of your data.\n",
    "* Is there structure in the data that needs to be modeled?\n",
    "* Which features are relevant for the mode?"
   ]
  },
  {
   "cell_type": "code",
   "execution_count": null,
   "id": "0d0333ed-b12d-489b-b000-1f4957f9a6b2",
   "metadata": {
    "tags": []
   },
   "outputs": [],
   "source": [
    "# import all libraries used in this notebook\n",
    "require(sf)\n",
    "require(geojsonio)\n",
    "require(ggplot2)\n",
    "require(dplyr)\n",
    "suppressMessages(library(sf))\n",
    "suppressMessages(library(geojsonio))\n",
    "suppressMessages(library(ggplot2))\n",
    "suppressMessages(library(dplyr))\n",
    "options(width = 100)"
   ]
  },
  {
   "cell_type": "markdown",
   "id": "d9252cec-ab3f-45b7-8337-b5ec410ac67c",
   "metadata": {},
   "source": [
    "## Dataset: Exposure to particulate matter less than 2.5 microns in diameter\n",
    "\n",
    "\n",
    "Our goal is to build a model of ground-level air pollution, using measurements from ground monitors together\n",
    "with satellite imaging data.\n",
    "The dataset is taken from github repository: https://github.com/jgabry/bayes-vis-paper\n",
    "which contain all materials for the paper **_Visualization in Bayesian workflow_**:    \n",
    "\n",
    "Gabry, J. , Simpson, D. , Vehtari, A. , Betancourt, M. and Gelman, A. (2019),     \n",
    "Visualization in Bayesian workflow. _J. R. Stat. Soc. A_, 182: 389-402. doi:10.1111/rssa.12378\n",
    "\n",
    "* Published JRSS version: https://rss.onlinelibrary.wiley.com/doi/full/10.1111/rssa.12378\n",
    "* arXiv preprint: https://arxiv.org/pdf/1709.01449.pdf (includes Supplementary Materials in appendix)\n",
    "\n",
    "A local version of the raw data for this paper is in the `data` directory, named `GM_spdf.RData`.\n",
    "This [RDATA file](https://github.com/jgabry/bayes-vis-paper/blob/master/bayes-vis.RData) contains a single R [SpatialPointsDataFrame](https://rdrr.io/cran/sp/man/SpatialPoints.html).\n",
    "\n",
    "We have converted this to a [GeoJson](https://geojson.org) file, `data/air_spdf.geojson` which contains just the information needed for this analysis."
   ]
  },
  {
   "cell_type": "markdown",
   "id": "0d57327b-5a69-4dca-b6db-a4971c6534f0",
   "metadata": {},
   "source": [
    "The dataset for this paper consists of measurements of ambient ${PM}_{2.5}$ collected from ground monitors\n",
    "together with the corresponding measurement from high-resolution satellite data for that geo-location.\n",
    "The data was collected accros 100 countries, which have been grouped into 7 categories by the World Health Organization (WHO).\n",
    "Each observation consists of the following:\n",
    "\n",
    "- 3-letter ISO country code\n",
    "- location name\n",
    "- a pair of latitude, longitude coordinates (in WGS84)\n",
    "- ${PM}_{2.5}$ measurements from ground monitors, and log(ground PM)\n",
    "- ${PM}_{2.5}$ measurements from via high-resolution satellite data, and log(satelite PM)\n",
    "- World Health Organization (WHO) super-region name\n",
    "- 6-component hierarchical clustering of ground monitor measurements\n",
    "- 6-component hierarchical clustering of log ground monitor measurements"
   ]
  },
  {
   "cell_type": "code",
   "execution_count": null,
   "id": "a19c99d5-cd03-4a29-aab5-bb7ab616f377",
   "metadata": {},
   "outputs": [],
   "source": [
    "pm_gdf = geojson_read(\"data/air_spdf.geojson\", parse=TRUE, what=\"sp\", stringsAsFactors=TRUE)\n",
    "sites <- st_as_sf(pm_gdf)\n",
    "sites$super_region_name <- factor(sites$super_region_name)\n",
    "str(sites)"
   ]
  },
  {
   "cell_type": "code",
   "execution_count": null,
   "id": "c919b963-fba1-4023-ad3c-d8e31f358863",
   "metadata": {},
   "outputs": [],
   "source": [
    "head(sites)"
   ]
  },
  {
   "cell_type": "markdown",
   "id": "38ed9e25-030e-4fe2-8418-3d62ee594db5",
   "metadata": {},
   "source": [
    "What is the range of observed measurements of ${PM}_{2.5}$ and log ${PM}_{2.5}$ from ground monitors and satellites?"
   ]
  },
  {
   "cell_type": "code",
   "execution_count": null,
   "id": "75730e9b-3eff-442c-893c-be24d094b90b",
   "metadata": {},
   "outputs": [],
   "source": [
    "cat(\"pm_25\")\n",
    "summary(sites$pm25)\n",
    "cat(\"log_pm\")\n",
    "summary(sites$log_pm25)\n",
    "cat(\"sat_2014\")\n",
    "summary(sites$sat_2014)\n",
    "cat(\"log_sat\")\n",
    "summary(sites$log_sat)"
   ]
  },
  {
   "cell_type": "markdown",
   "id": "60897c78-dbae-4116-951c-f340108999c1",
   "metadata": {
    "tags": []
   },
   "source": [
    "To properly visualize the distribution of measurements around the globe we need a map which contains country boundaries.\n",
    "We have downloaded a world map shapefile (in coordinate system WGS84) from\n",
    "[Natural Earth](https://www.naturalearthdata.com/), which provides free public domain datasets.\n",
    "\n",
    "We add the per-country WHO super region names and cluster regions to the world map so that we can color countries by super region and clustered region."
   ]
  },
  {
   "cell_type": "code",
   "execution_count": null,
   "id": "3ee7edab-26d3-4d28-b252-fc9866ff6823",
   "metadata": {
    "tags": []
   },
   "outputs": [],
   "source": [
    "world_map_gdf = st_read(dsn = \"data/ne_110m_admin_0_countries\", layer=\"ne_110m_admin_0_countries\")\n",
    "countries <- as.data.frame(sites) %>% select(iso3, super_region_name, super_region, cluster_region, cluster_log_region) %>% distinct()\n",
    "world_map_plus_gdf <- merge(world_map_gdf, countries, by.x = 'ISO_A3_EH', by.y = 'iso3', all.x = TRUE)\n",
    "\n",
    "options(repr.plot.width=20, repr.plot.height=10)\n",
    "ggplot() +  \n",
    " geom_sf(data = world_map_plus_gdf, aes(fill=factor(super_region_name)), alpha=0.1) +\n",
    " geom_sf(data = sites, aes(color=factor(super_region_name))) +\n",
    " scale_color_manual(values = c('red', 'orange', 'magenta', 'green', 'purple', 'blue', 'cyan')) +\n",
    " scale_fill_manual(values = c('red', 'orange', 'magenta', 'green', 'purple', 'blue', 'cyan', 'ivory')) +\n",
    "         guides(fill='none')"
   ]
  },
  {
   "cell_type": "markdown",
   "id": "98a8a339-dd76-4b7c-bea9-c34e51dac70e",
   "metadata": {},
   "source": [
    "Alternatively, we can color countries by region and show ground monitor points by log_pm25 readings.   Green and yellows indicate low readings, red and orange indicate high readings."
   ]
  },
  {
   "cell_type": "code",
   "execution_count": null,
   "id": "a1e917d3-9882-4fbf-a792-737352b9af5c",
   "metadata": {
    "tags": []
   },
   "outputs": [],
   "source": [
    "options(repr.plot.width=20, repr.plot.height=10)\n",
    "ggplot() +  \n",
    " geom_sf(data = world_map_plus_gdf, aes(fill=factor(super_region_name)), alpha=0.2) +\n",
    " geom_sf(data = sites, aes(color=log_pm25)) +\n",
    " scale_color_gradient2(low='green', mid='yellow', high='red', midpoint=2.8) +\n",
    " scale_fill_manual(values = c('red', 'orange', 'magenta', 'green', 'purple', 'blue', 'cyan', 'ivory'))"
   ]
  },
  {
   "cell_type": "markdown",
   "id": "1e3efc36-0ac4-4bcd-a448-cb75bb027a16",
   "metadata": {},
   "source": [
    "## Data structure\n",
    "\n",
    "The data has two levels of grouping:  low-level grouping by country (107 countries), and high-level grouping by super-region (7 categories) or cluster-region (6 clusters)."
   ]
  },
  {
   "cell_type": "markdown",
   "id": "ebcff413-0aec-4ffd-b526-c7c36df87943",
   "metadata": {},
   "source": [
    "### Ground monitors per region"
   ]
  },
  {
   "cell_type": "code",
   "execution_count": null,
   "id": "dcb2a6cb-1a03-4f30-a347-12c05e819e88",
   "metadata": {},
   "outputs": [],
   "source": [
    "options(repr.plot.width=10, repr.plot.height=5)\n",
    "ggplot() +\n",
    "    geom_bar(data=sites, aes(x=super_region, fill=factor(super_region_name))) +\n",
    "    scale_fill_manual(values = c('red', 'orange', 'magenta', 'green', 'purple', 'blue', 'cyan')) +\n",
    "    ggtitle('Ground Monitors per Region') + xlab('') + labs(fill='Super Region')"
   ]
  },
  {
   "cell_type": "markdown",
   "id": "84d6e7cc-43f9-47e7-bb87-e1a02ba4a4b9",
   "metadata": {},
   "source": [
    "### Ground monitors per country\n",
    "\n",
    "The number of per-country ground monitors depends on the size, overall development, and population density of the country.  China, the US, and India dominate, followed by other high income regions."
   ]
  },
  {
   "cell_type": "code",
   "execution_count": null,
   "id": "9cf4ebf1-b763-4415-85f1-e98cc5e5ba50",
   "metadata": {},
   "outputs": [],
   "source": [
    "sites %>%\n",
    "  group_by(iso3) %>%\n",
    "  summarise(count = n()) %>%\n",
    "  arrange(desc(count)) %>%\n",
    "  head(5)"
   ]
  },
  {
   "cell_type": "code",
   "execution_count": null,
   "id": "a8480a75-a63b-4889-be86-baa0dfdad914",
   "metadata": {},
   "outputs": [],
   "source": [
    "counts = sites %>%\n",
    "  select(iso3) %>%\n",
    "  count(iso3)\n",
    "\n",
    "print(summary(counts$n))"
   ]
  },
  {
   "cell_type": "markdown",
   "id": "a46c4f39-a5de-49a3-ad95-67ec257c2435",
   "metadata": {},
   "source": [
    "Of these 107 countries surveyed, the median number of monitors per country is 9. We can visualize this distribution as a bar plot. Is this useful?"
   ]
  },
  {
   "cell_type": "code",
   "execution_count": null,
   "id": "cbb226b4-4e5f-40ed-98d5-50e5c5f6ae37",
   "metadata": {
    "tags": []
   },
   "outputs": [],
   "source": [
    "ggplot() +\n",
    "    geom_bar(data=sites, aes(x=iso3, fill=factor(super_region_name))) +\n",
    "    scale_fill_manual(values = c('red', 'orange', 'magenta', 'green', 'purple', 'blue', 'cyan')) +\n",
    "    ggtitle('Ground Monitors per Country') + xlab('region') + labs(fill='Super Region')"
   ]
  },
  {
   "cell_type": "markdown",
   "id": "7fcf6aae-07b7-4d41-b50f-4edf7de8600f",
   "metadata": {},
   "source": [
    "## Which features to use in the model?\n",
    "\n",
    "Gabry et al consider 3 alternatives:\n",
    "\n",
    "* Complete pooling - regress ground monitor readings on satellite data; all sites are the same.\n",
    "* Partial pooling by WHO super region\n",
    "* Partial pooling based on hierachical clustering of country-level average of ground monitor readings\n",
    "   + here we also consider clustering on average of *log* ground monitor reading\n"
   ]
  },
  {
   "cell_type": "markdown",
   "id": "470c0fb0-7152-41c8-8b99-4e41e2221a1d",
   "metadata": {},
   "source": [
    "### Cluster by ground monitor ${PM}_{2.5}$"
   ]
  },
  {
   "cell_type": "markdown",
   "id": "93e36bae-513e-4d5b-870c-9ed1fa98fed0",
   "metadata": {},
   "source": [
    "What are the groupings for hierarhical clustering by ground monitor ${PM}_{2.5}$?"
   ]
  },
  {
   "cell_type": "code",
   "execution_count": null,
   "id": "a2cf248b-9416-4faa-a209-2febab850d54",
   "metadata": {},
   "outputs": [],
   "source": [
    "cat(\"Sites per cluster_region\")\n",
    "table(sites$cluster_region)"
   ]
  },
  {
   "cell_type": "code",
   "execution_count": null,
   "id": "1a789740-60f2-475c-b4af-ecdfbabbaaae",
   "metadata": {},
   "outputs": [],
   "source": [
    "ggplot() +\n",
    "    geom_bar(data=sites, aes(x=factor(cluster_region), fill=factor(cluster_region)))"
   ]
  },
  {
   "cell_type": "code",
   "execution_count": null,
   "id": "a5cb9682-79d4-4800-b10b-4d3142ed8641",
   "metadata": {},
   "outputs": [],
   "source": [
    "options(repr.plot.width=20, repr.plot.height=10)\n",
    "ggplot() +  \n",
    " geom_sf(data = world_map_plus_gdf, aes(fill=factor(cluster_region)))"
   ]
  },
  {
   "cell_type": "code",
   "execution_count": null,
   "id": "43d2f5b0",
   "metadata": {},
   "outputs": [],
   "source": [
    "options(repr.plot.width=20, repr.plot.height=10)\n",
    "ggplot() +  \n",
    " geom_sf(data = world_map_plus_gdf, aes(fill=factor(cluster_region)), alpha=0.7) +\n",
    " geom_sf(data = sites, aes(color=log_pm25), alpha=0.7) +\n",
    " scale_color_gradient2(low='green', mid='yellow', high='red', midpoint=2.8)"
   ]
  },
  {
   "cell_type": "markdown",
   "id": "c698159f-c45a-453a-b5e9-d828f6bf5f58",
   "metadata": {},
   "source": [
    "### Cluster by log of ground monitor ${PM}_{2.5}$"
   ]
  },
  {
   "cell_type": "code",
   "execution_count": null,
   "id": "c73a2be5-482f-4c7e-9ffa-98184f795cfa",
   "metadata": {},
   "outputs": [],
   "source": [
    "cat(\"Sites per cluster_log_region\")\n",
    "table(sites$cluster_log_region)"
   ]
  },
  {
   "cell_type": "code",
   "execution_count": null,
   "id": "78e3c1bc-0e2f-4d20-aeb8-27b1e85c63e2",
   "metadata": {},
   "outputs": [],
   "source": [
    "options(repr.plot.width=10, repr.plot.height=5)\n",
    "ggplot() +\n",
    "    geom_bar(data=sites, aes(x=factor(cluster_log_region), fill=factor(cluster_log_region)))"
   ]
  },
  {
   "cell_type": "code",
   "execution_count": null,
   "id": "c26f61d5-5ecc-4806-b04a-cf386908b161",
   "metadata": {},
   "outputs": [],
   "source": [
    "options(repr.plot.width=20, repr.plot.height=10)\n",
    "ggplot() +  \n",
    " geom_sf(data = world_map_plus_gdf, aes(fill=factor(cluster_log_region)), alpha=0.7)"
   ]
  },
  {
   "cell_type": "code",
   "execution_count": null,
   "id": "ef9947af-941e-40e0-8143-cd24ae5d4986",
   "metadata": {},
   "outputs": [],
   "source": [
    "ggplot() +  \n",
    " geom_sf(data = world_map_plus_gdf, aes(fill=factor(cluster_log_region)), alpha=0.7) +\n",
    " geom_sf(data = sites, aes(color=log_pm25), alpha=0.7) +\n",
    " scale_color_gradient2(low='green', mid='yellow', high='red', midpoint=2.8)"
   ]
  }
 ],
 "metadata": {
  "kernelspec": {
   "display_name": "R",
   "language": "R",
   "name": "ir"
  },
  "language_info": {
   "codemirror_mode": "r",
   "file_extension": ".r",
   "mimetype": "text/x-r-source",
   "name": "R",
   "pygments_lexer": "r",
   "version": "4.2.2"
  }
 },
 "nbformat": 4,
 "nbformat_minor": 5
}
